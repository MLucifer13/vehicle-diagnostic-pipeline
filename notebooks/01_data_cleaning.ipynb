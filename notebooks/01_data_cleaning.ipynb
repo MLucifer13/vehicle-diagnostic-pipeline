{
 "cells": [
  {
   "cell_type": "markdown",
   "id": "1885b348",
   "metadata": {},
   "source": [
    "# Vehicle Sensor Data: Exploration and Cleaning\n",
    "\n",
    "**Objective:** Load the raw sensor data from `data/raw/`, inspect it for issues, clean it, and save the processed version to `data/processed/` for the next step in the pipeline."
   ]
  },
  {
   "cell_type": "code",
   "execution_count": null,
   "id": "0acf1220",
   "metadata": {},
   "outputs": [],
   "source": [
    "import pandas as pd\n",
    "import os"
   ]
  },
  {
   "cell_type": "markdown",
   "id": "77806340",
   "metadata": {},
   "source": [
    "### Step 1: Load Raw Data"
   ]
  },
  {
   "cell_type": "code",
   "execution_count": null,
   "id": "34fdca23",
   "metadata": {},
   "outputs": [],
   "source": [
    "raw_data_path = '../data/raw/sensor_data.csv'\n",
    "df = pd.read_csv(raw_data_path)"
   ]
  },
  {
   "cell_type": "markdown",
   "id": "e6a3e79e",
   "metadata": {},
   "source": [
    "### Step 2: Initial Exploration"
   ]
  },
  {
   "cell_type": "code",
   "execution_count": null,
   "id": "8cc71f99",
   "metadata": {},
   "outputs": [],
   "source": [
    "print('--- First 5 Rows ---')\n",
    "print(df.head())\n",
    "print('\\n--- Data Info ---')\n",
    "df.info()\n",
    "print('\\n--- Missing Values Check ---')\n",
    "print(df.isnull().sum())"
   ]
  },
  {
   "cell_type": "markdown",
   "id": "403a9e89",
   "metadata": {},
   "source": [
    "### Step 3: Data Cleaning\n",
    "The initial exploration shows missing values in several sensor columns. A simple and robust strategy for this project is to fill these gaps using the mean of each respective column. This ensures we don't lose any records."
   ]
  },
  {
   "cell_type": "code",
   "execution_count": null,
   "id": "6012b2f8",
   "metadata": {},
   "outputs": [],
   "source": [
    "df.fillna(df.mean(numeric_only=True), inplace=True)\n",
    "\n",
    "print('\\n--- Missing Values After Cleaning ---')\n",
    "print(df.isnull().sum())"
   ]
  },
  {
   "cell_type": "markdown",
   "id": "72fb34c2",
   "metadata": {},
   "source": [
    "### Step 4: Save Processed Data\n",
    "Save the cleaned DataFrame to the processed data folder, ensuring the directory exists first."
   ]
  },
  {
   "cell_type": "code",
   "execution_count": null,
   "id": "bf39cfc4",
   "metadata": {},
   "outputs": [],
   "source": [
    "processed_folder_path = '../data/processed/'\n",
    "os.makedirs(processed_folder_path, exist_ok=True) # Ensure the directory exists\n",
    "\n",
    "processed_file_path = os.path.join(processed_folder_path, 'cleaned_sensor_data.csv')\n",
    "df.to_csv(processed_file_path, index=False)\n",
    "\n",
    "print(f'Cleaned data successfully saved to {processed_file_path}')"
   ]
  }
 ],
 "metadata": {
  "language_info": {
   "name": "python"
  }
 },
 "nbformat": 4,
 "nbformat_minor": 5
}
